{
 "cells": [
  {
   "cell_type": "code",
   "execution_count": 1,
   "metadata": {},
   "outputs": [],
   "source": [
    "import numpy as np\n",
    "import matplotlib.pyplot as plt\n",
    "from filterpy.kalman import JulierSigmaPoints, unscented_transform"
   ]
  },
  {
   "cell_type": "markdown",
   "metadata": {},
   "source": [
    "Параметры закона распределения в исходной системе координат"
   ]
  },
  {
   "cell_type": "code",
   "execution_count": 2,
   "metadata": {},
   "outputs": [],
   "source": [
    "mymean = [20.6, np.pi/2, np.pi/3]\n",
    "mycov = [[1.55,0,0],\n",
    "         [0,np.pi/10,0],\n",
    "         [0,0,np.pi/15]]"
   ]
  },
  {
   "cell_type": "markdown",
   "metadata": {},
   "source": [
    "Выборка для тестирования алгоритма"
   ]
  },
  {
   "cell_type": "code",
   "execution_count": 3,
   "metadata": {},
   "outputs": [
    {
     "data": {
      "text/plain": [
       "(array([19.55573122, 18.05492431, 19.52706952, ..., 21.38151703,\n",
       "        19.35422566, 19.8457244 ]),\n",
       " array([1.55346126, 1.93315373, 1.57636603, ..., 1.75425509, 2.46501742,\n",
       "        1.55041848]),\n",
       " array([0.79357266, 1.47489445, 1.89493684, ..., 1.10050338, 0.74634614,\n",
       "        1.0748861 ]))"
      ]
     },
     "execution_count": 3,
     "metadata": {},
     "output_type": "execute_result"
    }
   ],
   "source": [
    "r, theta, phi = np.random.multivariate_normal(mean = mymean, cov= mycov, size=10000).T\n",
    "r, theta, phi"
   ]
  },
  {
   "cell_type": "markdown",
   "metadata": {},
   "source": [
    "Функция преобразования координат (может быть любой)"
   ]
  },
  {
   "cell_type": "code",
   "execution_count": 4,
   "metadata": {},
   "outputs": [],
   "source": [
    "def f(r, theta, phi):\n",
    "    x = r * np.sin(theta) * np.cos(phi)\n",
    "    y = r * np.sin(theta) * np.sin(phi)\n",
    "    z = r * np.cos(theta)\n",
    "    return x, y, z"
   ]
  },
  {
   "cell_type": "code",
   "execution_count": 5,
   "metadata": {},
   "outputs": [
    {
     "data": {
      "text/plain": [
       "JulierSigmaPoints object\n",
       "n = 3\n",
       "kappa = 1.0\n",
       "Wm = [0.25  0.125 0.125 0.125 0.125 0.125 0.125]\n",
       "Wc = [0.25  0.125 0.125 0.125 0.125 0.125 0.125]\n",
       "subtract = <ufunc 'subtract'>\n",
       "sqrt = <function cholesky at 0x7f9de982b280>"
      ]
     },
     "execution_count": 5,
     "metadata": {},
     "output_type": "execute_result"
    }
   ],
   "source": [
    "sigmas = JulierSigmaPoints(n=3, kappa=1.0) \n",
    "sigmas"
   ]
  },
  {
   "cell_type": "code",
   "execution_count": 6,
   "metadata": {},
   "outputs": [
    {
     "data": {
      "text/plain": [
       "array([[20.58042945,  1.56604676,  1.05234593],\n",
       "       [23.09599141,  1.56612404,  1.05402675],\n",
       "       [20.58042945,  2.68878075,  1.0605641 ],\n",
       "       [20.58042945,  1.56604676,  1.96521147],\n",
       "       [18.06486748,  1.56596949,  1.05066512],\n",
       "       [20.58042945,  0.44331278,  1.04412777],\n",
       "       [20.58042945,  1.56604676,  0.13948039]])"
      ]
     },
     "execution_count": 6,
     "metadata": {},
     "output_type": "execute_result"
    }
   ],
   "source": [
    "points = sigmas.sigma_points(np.array([np.mean(r), np.mean(theta), np.mean(phi)]), np.cov((r, theta, phi)))\n",
    "points"
   ]
  },
  {
   "cell_type": "code",
   "execution_count": 7,
   "metadata": {},
   "outputs": [
    {
     "data": {
      "text/plain": [
       "array([[ 10.19820323,  17.8757146 ,   0.09774767],\n",
       "       [ 11.41100733,  20.07989259,   0.10791076],\n",
       "       [  4.39729998,   7.85704056, -18.50634331],\n",
       "       [ -7.90831751,  19.00007989,   0.09774767],\n",
       "       [  8.97802613,  15.675678  ,   0.08719581],\n",
       "       [  4.43727426,   7.6313866 ,  18.59103579],\n",
       "       [ 20.38033006,   2.86123545,   0.09774767]])"
      ]
     },
     "execution_count": 7,
     "metadata": {},
     "output_type": "execute_result"
    }
   ],
   "source": [
    "mp = np.stack(f(points[:,0],points[:,1],points[:,2]),axis = 1)\n",
    "mp"
   ]
  },
  {
   "cell_type": "code",
   "execution_count": 8,
   "metadata": {},
   "outputs": [
    {
     "data": {
      "text/plain": [
       "(array([ 7.76150334, 13.60709279,  0.08384872]),\n",
       " array([[ 56.72753202, -16.74457521,   0.1420341 ],\n",
       "        [-16.74457521,  36.99354639,  -0.43650065],\n",
       "        [  0.1420341 ,  -0.43650065,  86.01407199]]))"
      ]
     },
     "execution_count": 8,
     "metadata": {},
     "output_type": "execute_result"
    }
   ],
   "source": [
    "ukf_mean, ukf_cov = unscented_transform(mp, sigmas.Wm, sigmas.Wc)\n",
    "ukf_mean, ukf_cov"
   ]
  },
  {
   "cell_type": "markdown",
   "metadata": {},
   "source": [
    "Проверка"
   ]
  },
  {
   "cell_type": "code",
   "execution_count": 9,
   "metadata": {},
   "outputs": [
    {
     "data": {
      "text/plain": [
       "(7.833731797464162, 13.774601171126758, 0.09637994130895981)"
      ]
     },
     "execution_count": 9,
     "metadata": {},
     "output_type": "execute_result"
    }
   ],
   "source": [
    "x, y, z = f(r, theta, phi)\n",
    "np.mean(x), np.mean(y), np.mean(z)"
   ]
  },
  {
   "cell_type": "code",
   "execution_count": 10,
   "metadata": {},
   "outputs": [
    {
     "data": {
      "text/plain": [
       "array([[ 45.79052798, -15.54003107,   0.33259348],\n",
       "       [-15.54003107,  28.54891815,   0.20478675],\n",
       "       [  0.33259348,   0.20478675,  99.69760814]])"
      ]
     },
     "execution_count": 10,
     "metadata": {},
     "output_type": "execute_result"
    }
   ],
   "source": [
    "np.cov((x, y, z))"
   ]
  },
  {
   "cell_type": "code",
   "execution_count": null,
   "metadata": {},
   "outputs": [],
   "source": []
  }
 ],
 "metadata": {
  "kernelspec": {
   "display_name": "Python 3",
   "language": "python",
   "name": "python3"
  },
  "language_info": {
   "codemirror_mode": {
    "name": "ipython",
    "version": 3
   },
   "file_extension": ".py",
   "mimetype": "text/x-python",
   "name": "python",
   "nbconvert_exporter": "python",
   "pygments_lexer": "ipython3",
   "version": "3.9.0"
  }
 },
 "nbformat": 4,
 "nbformat_minor": 4
}
